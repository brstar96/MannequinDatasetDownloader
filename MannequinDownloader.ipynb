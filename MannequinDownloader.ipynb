{
 "cells": [
  {
   "cell_type": "markdown",
   "metadata": {},
   "source": [
    "## Mannequin Challenge Dataset Downloader\n",
    "This notebook is a downloader for Mannequin Challenge Dataset. Written by Myeong-Gyu.Lee\n",
    "\n",
    "* Reference: https://blog.naver.com/PostView.nhn?blogId=skyshin0304&logNo=221620513883&proxyReferer=https:%2F%2Fwww.google.com%2F\n",
    "\n",
    "type `pip install pytube3` to install pytube library.\n",
    "\n",
    "### Test single video download"
   ]
  },
  {
   "cell_type": "code",
   "execution_count": null,
   "metadata": {},
   "outputs": [],
   "source": [
    "from pytube import YouTube\n",
    "from tqdm import tqdm\n",
    "import os, cv2, shutil, math, datetime, ast\n",
    "import matplotlib.pyplot as plt\n",
    "import pandas as pd\n",
    "\n",
    "%matplotlib inline"
   ]
  },
  {
   "cell_type": "code",
   "execution_count": null,
   "metadata": {},
   "outputs": [],
   "source": [
    "_url = 'https://www.youtube.com/watch?v=KMtgexdtcGY'\n",
    "yt = YouTube(_url)\n",
    "print(\"영상 제목 :\", yt.title)\n",
    "print(\"영상 길이 :\", yt.length)\n",
    "print(\"영상 평점 :\", yt.rating)\n",
    "print(\"영상 썸네일 링크: \", yt.thumbnail_url)\n",
    "print(\"영상 조회수 :\", yt.views)\n",
    "print(\"영상 설명 :\", yt.description)"
   ]
  },
  {
   "cell_type": "code",
   "execution_count": null,
   "metadata": {},
   "outputs": [],
   "source": [
    "_yt_streams = yt.streams\n",
    "print(\"다운가능한 영상 상세 정보 :\")\n",
    "for i, stream in enumerate(_yt_streams.all()):\n",
    "    print(i, \" : \", stream)"
   ]
  },
  {
   "cell_type": "markdown",
   "metadata": {},
   "source": [
    "### Build the dataframe and sort by `res` to get highest resolution video.\n",
    "Get only `video/mp4` rows."
   ]
  },
  {
   "cell_type": "code",
   "execution_count": null,
   "metadata": {},
   "outputs": [],
   "source": [
    "def get_download_info(yt_streams, video_url):\n",
    "    stream_df_list = []\n",
    "    \n",
    "    for stream in yt_streams.all():\n",
    "        try:\n",
    "            stream_dict = dict()\n",
    "            stream_str = str(stream)\n",
    "            stream_elements = stream_str.replace('Stream: ', '').replace('=', ':').replace('<', '').replace('>', '').replace('\"', '').split(' ')\n",
    "            for elemnt in stream_elements:\n",
    "                stream_dict[elemnt.split(':')[0]] = elemnt.split(':')[-1]\n",
    "            stream_df_list.append(pd.DataFrame.from_dict(stream_dict, orient='index').T)\n",
    "        except:\n",
    "            print(\"This yt_stream does not have any downloadable streams.\")\n",
    "\n",
    "    stream_df_global = pd.concat(stream_df_list)\n",
    "    stream_df_global['videoID'] = str(video_url.split('/')[-1].split('=')[-1])\n",
    "    stream_df_global.set_index('videoID', inplace = True)\n",
    "    stream_df_global = stream_df_global[pd.notnull(stream_df_global['res'])]\n",
    "    stream_df_global['res'] = stream_df_global['res'].str.replace(pat=r'[A-Za-z]', repl= r'', regex=True)\n",
    "    stream_df_global = stream_df_global.astype({'itag': int, 'res': int})\n",
    "    stream_df_global = stream_df_global.sort_values(by='res', ascending=False)\n",
    "    stream_df_global = stream_df_global[stream_df_global['mime_type'] == 'video/mp4']\n",
    "    \n",
    "    # itag를 이용해 가장 높은 해상도의 Video Download\n",
    "    highest_stream = yt_streams.get_by_itag(stream_df_global.iloc[0]['itag'])\n",
    "    \n",
    "    return stream_df_global, highest_stream"
   ]
  },
  {
   "cell_type": "code",
   "execution_count": null,
   "metadata": {},
   "outputs": [],
   "source": [
    "stream_df_global, highest_stream = get_download_info(_yt_streams, _url)\n",
    "print('Highest resolution stream info:', highest_stream)\n",
    "stream_df_global.head(3)"
   ]
  },
  {
   "cell_type": "code",
   "execution_count": null,
   "metadata": {},
   "outputs": [],
   "source": [
    "print(\"선택된 stream 다운로드:\", highest_stream)\n",
    "# highest_stream.download(output_path='D:/MannequinChallenge_Videos', filename=stream_df_global.index[0])"
   ]
  },
  {
   "cell_type": "markdown",
   "metadata": {},
   "source": [
    "### Read whole `.txt` file and download"
   ]
  },
  {
   "cell_type": "code",
   "execution_count": null,
   "metadata": {},
   "outputs": [],
   "source": [
    "meta_txt_path = 'D:/MannequinChallenge'"
   ]
  },
  {
   "cell_type": "markdown",
   "metadata": {},
   "source": [
    "Get video url and build combined dictionary"
   ]
  },
  {
   "cell_type": "code",
   "execution_count": null,
   "metadata": {},
   "outputs": [],
   "source": [
    "entire_video_urls = {}\n",
    "\n",
    "for path in os.listdir(meta_txt_path):\n",
    "    path_url_list = []\n",
    "    \n",
    "    txt_path = os.path.join(meta_txt_path, path)\n",
    "    for txt in os.listdir(txt_path):\n",
    "        f = open(os.path.join(txt_path, txt))\n",
    "        line = f.readline().replace('\\n', '')\n",
    "        path_url_list.append(line)\n",
    "    entire_video_urls.update({path:path_url_list})"
   ]
  },
  {
   "cell_type": "markdown",
   "metadata": {},
   "source": [
    "Download videos."
   ]
  },
  {
   "cell_type": "code",
   "execution_count": null,
   "metadata": {
    "scrolled": false
   },
   "outputs": [],
   "source": [
    "failure_videos = []\n",
    "\n",
    "for key, value in entire_video_urls.items():\n",
    "    for video_url in value:\n",
    "        try:\n",
    "            output_path = os.path.join('D:/MannequinChallenge_Videos', key)\n",
    "            os.makedirs(output_path, exist_ok=True)\n",
    "            yt_streams = YouTube(video_url)\n",
    "            _yt_str = yt_streams.streams\n",
    "            stream_df_global, highest_stream = get_download_info(_yt_str, video_url)\n",
    "            highest_stream.download(output_path=output_path, filename=video_url.split('=')[-1])\n",
    "        except:\n",
    "            failed_url = video_url.split('=')[-1]\n",
    "            print(\"This stream is not downloadable: {}\".format(failed_url))\n",
    "            failure_videos.append(failed_url)\n",
    "            continue\n",
    "            \n",
    "print(\"Done downloading videos! Failure video count: {}\".format(len(failed_url)))"
   ]
  },
  {
   "cell_type": "code",
   "execution_count": null,
   "metadata": {},
   "outputs": [],
   "source": []
  }
 ],
 "metadata": {
  "kernelspec": {
   "display_name": "Python 3",
   "language": "python",
   "name": "python3"
  },
  "language_info": {
   "codemirror_mode": {
    "name": "ipython",
    "version": 3
   },
   "file_extension": ".py",
   "mimetype": "text/x-python",
   "name": "python",
   "nbconvert_exporter": "python",
   "pygments_lexer": "ipython3",
   "version": "3.7.6"
  }
 },
 "nbformat": 4,
 "nbformat_minor": 4
}
