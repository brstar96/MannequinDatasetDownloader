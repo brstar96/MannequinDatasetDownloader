{
 "cells": [
  {
   "cell_type": "markdown",
   "metadata": {},
   "source": [
    "## Mannequin Challenge Dataset Downloader\n",
    "This notebook is a downloader for Mannequin Challenge Dataset. Written by Myeong-Gyu.Lee\n",
    "\n",
    "* Reference: https://blog.naver.com/PostView.nhn?blogId=skyshin0304&logNo=221620513883&proxyReferer=https:%2F%2Fwww.google.com%2F\n",
    "\n",
    "type `pip install pytube3` to install pytube library.\n",
    "\n",
    "### Test single video download"
   ]
  },
  {
   "cell_type": "code",
   "execution_count": 1,
   "metadata": {},
   "outputs": [],
   "source": [
    "from pytube import YouTube\n",
    "from tqdm import tqdm\n",
    "import os, cv2, shutil, math, datetime, ast, warnings\n",
    "import matplotlib.pyplot as plt\n",
    "import pandas as pd\n",
    "\n",
    "warnings.filterwarnings(\"ignore\",category=DeprecationWarning)\n",
    "%matplotlib inline"
   ]
  },
  {
   "cell_type": "code",
   "execution_count": 2,
   "metadata": {},
   "outputs": [
    {
     "name": "stdout",
     "output_type": "stream",
     "text": [
      "영상 제목 : YouTube\n",
      "영상 길이 : 203\n",
      "영상 평점 : 5.0\n",
      "영상 썸네일 링크:  https://i.ytimg.com/vi/KMtgexdtcGY/maxresdefault.jpg\n",
      "영상 조회수 : 200\n",
      "영상 설명 : The FHS Wind Ensemble took on the Mannequin Challenge! Not originally my video but it was too fun NOT to upload, and all credit is given! :)\n",
      "\n",
      "See if you can spot me!\n",
      "---------------------------------\n",
      "Twitter ~ https://twitter.com/JessicaWitXx\n",
      "Instagram ~ https://www.instagram.com/jesswitxx/\n",
      "Snapchat ~ jessicawitxx\n",
      "Vlog Channel ~ https://goo.gl/6ZhRuu\n",
      "Collab Channel ~ https://goo.gl/rHNw96\n",
      "---------------------------------\n",
      "Song 1:\n",
      "Merry Go Slower by Kevin MacLeod is licensed under a Creative Commons Attribution license (https://creativecommons.org/licenses/by/4.0/)\n",
      "Source: http://incompetech.com/music/royalty-free/index.html?isrc=USUAN1100732\n",
      "Artist: http://incompetech.com/\n",
      "Song 2:\n",
      "Divertimento K131 by Kevin MacLeod is licensed under a Creative Commons Attribution license (https://creativecommons.org/licenses/by/4.0/)\n",
      "Source: http://incompetech.com/music/royalty-free/index.html?isrc=USUAN1100533\n",
      "Artist: http://incompetech.com/\n"
     ]
    }
   ],
   "source": [
    "_url = 'https://www.youtube.com/watch?v=KMtgexdtcGY'\n",
    "yt = YouTube(_url)\n",
    "print(\"영상 제목 :\", yt.title)\n",
    "print(\"영상 길이 :\", yt.length)\n",
    "print(\"영상 평점 :\", yt.rating)\n",
    "print(\"영상 썸네일 링크: \", yt.thumbnail_url)\n",
    "print(\"영상 조회수 :\", yt.views)\n",
    "print(\"영상 설명 :\", yt.description)"
   ]
  },
  {
   "cell_type": "code",
   "execution_count": 3,
   "metadata": {},
   "outputs": [
    {
     "name": "stdout",
     "output_type": "stream",
     "text": [
      "다운가능한 영상 상세 정보 :\n",
      "0  :  <Stream: itag=\"18\" mime_type=\"video/mp4\" res=\"360p\" fps=\"30fps\" vcodec=\"avc1.42001E\" acodec=\"mp4a.40.2\" progressive=\"True\" type=\"video\">\n",
      "1  :  <Stream: itag=\"22\" mime_type=\"video/mp4\" res=\"720p\" fps=\"30fps\" vcodec=\"avc1.64001F\" acodec=\"mp4a.40.2\" progressive=\"True\" type=\"video\">\n",
      "2  :  <Stream: itag=\"136\" mime_type=\"video/mp4\" res=\"720p\" fps=\"30fps\" vcodec=\"avc1.4d401f\" progressive=\"False\" type=\"video\">\n",
      "3  :  <Stream: itag=\"247\" mime_type=\"video/webm\" res=\"720p\" fps=\"30fps\" vcodec=\"vp9\" progressive=\"False\" type=\"video\">\n",
      "4  :  <Stream: itag=\"135\" mime_type=\"video/mp4\" res=\"480p\" fps=\"30fps\" vcodec=\"avc1.4d4014\" progressive=\"False\" type=\"video\">\n",
      "5  :  <Stream: itag=\"244\" mime_type=\"video/webm\" res=\"480p\" fps=\"30fps\" vcodec=\"vp9\" progressive=\"False\" type=\"video\">\n",
      "6  :  <Stream: itag=\"134\" mime_type=\"video/mp4\" res=\"360p\" fps=\"30fps\" vcodec=\"avc1.4d401e\" progressive=\"False\" type=\"video\">\n",
      "7  :  <Stream: itag=\"243\" mime_type=\"video/webm\" res=\"360p\" fps=\"30fps\" vcodec=\"vp9\" progressive=\"False\" type=\"video\">\n",
      "8  :  <Stream: itag=\"133\" mime_type=\"video/mp4\" res=\"240p\" fps=\"30fps\" vcodec=\"avc1.4d400c\" progressive=\"False\" type=\"video\">\n",
      "9  :  <Stream: itag=\"242\" mime_type=\"video/webm\" res=\"240p\" fps=\"30fps\" vcodec=\"vp9\" progressive=\"False\" type=\"video\">\n",
      "10  :  <Stream: itag=\"160\" mime_type=\"video/mp4\" res=\"144p\" fps=\"30fps\" vcodec=\"avc1.4d400b\" progressive=\"False\" type=\"video\">\n",
      "11  :  <Stream: itag=\"278\" mime_type=\"video/webm\" res=\"144p\" fps=\"30fps\" vcodec=\"vp9\" progressive=\"False\" type=\"video\">\n",
      "12  :  <Stream: itag=\"140\" mime_type=\"audio/mp4\" abr=\"128kbps\" acodec=\"mp4a.40.2\" progressive=\"False\" type=\"audio\">\n",
      "13  :  <Stream: itag=\"251\" mime_type=\"audio/webm\" abr=\"160kbps\" acodec=\"opus\" progressive=\"False\" type=\"audio\">\n"
     ]
    },
    {
     "name": "stderr",
     "output_type": "stream",
     "text": [
      "C:\\ProgramData\\Anaconda3\\lib\\site-packages\\ipykernel_launcher.py:3: DeprecationWarning: Call to deprecated function all (This object can be treated as a list, all() is useless).\n",
      "  This is separate from the ipykernel package so we can avoid doing imports until\n"
     ]
    }
   ],
   "source": [
    "_yt_streams = yt.streams\n",
    "print(\"다운가능한 영상 상세 정보 :\")\n",
    "for i, stream in enumerate(_yt_streams.all()):\n",
    "    print(i, \" : \", stream)"
   ]
  },
  {
   "cell_type": "markdown",
   "metadata": {},
   "source": [
    "### Build the dataframe and sort by `res` to get highest resolution video.\n",
    "Get only `video/mp4` rows."
   ]
  },
  {
   "cell_type": "code",
   "execution_count": 4,
   "metadata": {},
   "outputs": [],
   "source": [
    "def get_video_info(video_path):\n",
    "    video = cv2.VideoCapture(video_path)\n",
    "    entire_frame_count = int(video.get(cv2.CAP_PROP_FRAME_COUNT))\n",
    "    width = int(video.get(cv2.CAP_PROP_FRAME_WIDTH))\n",
    "    height = int(video.get(cv2.CAP_PROP_FRAME_HEIGHT))\n",
    "    fps = video.get(cv2.CAP_PROP_FPS)\n",
    "\n",
    "    return entire_frame_count, width, height, fps, video\n",
    "\n",
    "def save_frames(case_name, meta_txt, video, target_frames_path):\n",
    "    target_frames_path = os.path.join(target_frames_path, case_name)\n",
    "    os.makedirs(target_frames_path, exist_ok=True)\n",
    "    lines = meta_txt.readlines()\n",
    "    for index, line in enumerate(lines):\n",
    "        row_str = line.replace('\\n', '') \n",
    "        if not 'https' in line:\n",
    "            microsecond_info = int(row_str.split(' ')[0])\n",
    "            frame_number = math.floor(round(int(microsecond_info)/1000000, 3)*29.97)\n",
    "            video.set(cv2.CAP_PROP_POS_FRAMES, frame_number-1)\n",
    "            ret, frame = video.read() # Read the frame\n",
    "            # frame = cv2.cvtColor(frame, cv2.COLOR_BGR2RGB)\n",
    "            try:\n",
    "                cv2.imwrite(os.path.join(target_frames_path, case_name + '_' + str(index) + '.png'), frame)\n",
    "            except:\n",
    "                continue\n",
    "    meta_txt.close()\n",
    "\n",
    "def get_download_info(yt_streams, video_url):\n",
    "    stream_df_list = []\n",
    "    \n",
    "    for stream in yt_streams:\n",
    "        try:\n",
    "            stream_dict = dict()\n",
    "            stream_str = str(stream)\n",
    "            stream_elements = stream_str.replace('Stream: ', '').replace('=', ':').replace('<', '').replace('>', '').replace('\"', '').split(' ')\n",
    "            for elemnt in stream_elements:\n",
    "                stream_dict[elemnt.split(':')[0]] = elemnt.split(':')[-1]\n",
    "            stream_df_list.append(pd.DataFrame.from_dict(stream_dict, orient='index').T)\n",
    "        except:\n",
    "            print(\"This yt_stream does not have any downloadable streams.\")\n",
    "\n",
    "    stream_df_global = pd.concat(stream_df_list)\n",
    "    stream_df_global['videoID'] = str(video_url.split('/')[-1].split('=')[-1])\n",
    "    stream_df_global.set_index('videoID', inplace = True)\n",
    "    stream_df_global = stream_df_global[pd.notnull(stream_df_global['res'])]\n",
    "    stream_df_global['res'] = stream_df_global['res'].str.replace(pat=r'[A-Za-z]', repl= r'', regex=True)\n",
    "    stream_df_global = stream_df_global.astype({'itag': int, 'res': int})\n",
    "    stream_df_global = stream_df_global.sort_values(by='res', ascending=False)\n",
    "    stream_df_global = stream_df_global[stream_df_global['mime_type'] == 'video/mp4']\n",
    "    \n",
    "    # itag를 이용해 가장 높은 해상도의 Video Download\n",
    "    highest_stream = yt_streams.get_by_itag(stream_df_global.iloc[0]['itag'])\n",
    "    \n",
    "    return stream_df_global, highest_stream\n",
    "\n",
    "# Read txt file to fetch youtube video stream. After fetching stream, save video with single frames.\n",
    "def dataset_downloader(meta_file_path, target_video_path, target_frames_path):\n",
    "    failed_video_urls = {}\n",
    "    \n",
    "    for path in os.listdir(meta_file_path):\n",
    "        failure_url_list = []\n",
    "        txt_path = os.path.join(meta_file_path, path)\n",
    "        for txt in tqdm(os.listdir(txt_path)):\n",
    "            f = open(os.path.join(txt_path, txt))\n",
    "            video_url = f.readline().replace('\\n', '')\n",
    "            \n",
    "            try:\n",
    "                output_path = os.path.join(target_video_path, path)\n",
    "                os.makedirs(output_path, exist_ok=True)\n",
    "                \n",
    "                # Get youtube video stream informations.\n",
    "                yt_streams = YouTube(video_url)\n",
    "                _yt_str = yt_streams.streams\n",
    "                stream_df_global, highest_stream = get_download_info(_yt_str, video_url)\n",
    "                filename = stream_df_global.index[0]\n",
    "                \n",
    "                if not os.path.exists(os.path.join(output_path, filename+'.mp4')):\n",
    "                    highest_stream.download(output_path=output_path, filename=filename)\n",
    "                else:\n",
    "                    print(\"This stream is exist: {}\".format(filename+'.mp4'))\n",
    "                    continue\n",
    "            except:\n",
    "                print(\"This stream is not downloadable: {}\".format(filename))\n",
    "                failure_url_list.append(filename)\n",
    "                continue\n",
    "            \n",
    "            failed_video_urls.update({path:failure_url_list})\n",
    "            entire_frame_count, width, height, fps, video = get_video_info(os.path.join(output_path, filename+'.mp4'))\n",
    "            \n",
    "            output_frame_path = os.path.join(target_frames_path, path)\n",
    "            os.makedirs(output_frame_path, exist_ok=True)\n",
    "            save_frames(case_name=txt.split('.')[0], meta_txt=f, video=video, target_frames_path=output_frame_path)\n",
    "            \n",
    "    return failed_video_urls"
   ]
  },
  {
   "cell_type": "code",
   "execution_count": 5,
   "metadata": {},
   "outputs": [
    {
     "name": "stdout",
     "output_type": "stream",
     "text": [
      "Highest resolution stream info: <Stream: itag=\"22\" mime_type=\"video/mp4\" res=\"720p\" fps=\"30fps\" vcodec=\"avc1.64001F\" acodec=\"mp4a.40.2\" progressive=\"True\" type=\"video\">\n"
     ]
    },
    {
     "data": {
      "text/html": [
       "<div>\n",
       "<style scoped>\n",
       "    .dataframe tbody tr th:only-of-type {\n",
       "        vertical-align: middle;\n",
       "    }\n",
       "\n",
       "    .dataframe tbody tr th {\n",
       "        vertical-align: top;\n",
       "    }\n",
       "\n",
       "    .dataframe thead th {\n",
       "        text-align: right;\n",
       "    }\n",
       "</style>\n",
       "<table border=\"1\" class=\"dataframe\">\n",
       "  <thead>\n",
       "    <tr style=\"text-align: right;\">\n",
       "      <th></th>\n",
       "      <th>itag</th>\n",
       "      <th>mime_type</th>\n",
       "      <th>res</th>\n",
       "      <th>fps</th>\n",
       "      <th>vcodec</th>\n",
       "      <th>acodec</th>\n",
       "      <th>progressive</th>\n",
       "      <th>type</th>\n",
       "      <th>abr</th>\n",
       "    </tr>\n",
       "    <tr>\n",
       "      <th>videoID</th>\n",
       "      <th></th>\n",
       "      <th></th>\n",
       "      <th></th>\n",
       "      <th></th>\n",
       "      <th></th>\n",
       "      <th></th>\n",
       "      <th></th>\n",
       "      <th></th>\n",
       "      <th></th>\n",
       "    </tr>\n",
       "  </thead>\n",
       "  <tbody>\n",
       "    <tr>\n",
       "      <th>KMtgexdtcGY</th>\n",
       "      <td>22</td>\n",
       "      <td>video/mp4</td>\n",
       "      <td>720</td>\n",
       "      <td>30fps</td>\n",
       "      <td>avc1.64001F</td>\n",
       "      <td>mp4a.40.2</td>\n",
       "      <td>True</td>\n",
       "      <td>video</td>\n",
       "      <td>NaN</td>\n",
       "    </tr>\n",
       "    <tr>\n",
       "      <th>KMtgexdtcGY</th>\n",
       "      <td>136</td>\n",
       "      <td>video/mp4</td>\n",
       "      <td>720</td>\n",
       "      <td>30fps</td>\n",
       "      <td>avc1.4d401f</td>\n",
       "      <td>NaN</td>\n",
       "      <td>False</td>\n",
       "      <td>video</td>\n",
       "      <td>NaN</td>\n",
       "    </tr>\n",
       "    <tr>\n",
       "      <th>KMtgexdtcGY</th>\n",
       "      <td>135</td>\n",
       "      <td>video/mp4</td>\n",
       "      <td>480</td>\n",
       "      <td>30fps</td>\n",
       "      <td>avc1.4d4014</td>\n",
       "      <td>NaN</td>\n",
       "      <td>False</td>\n",
       "      <td>video</td>\n",
       "      <td>NaN</td>\n",
       "    </tr>\n",
       "  </tbody>\n",
       "</table>\n",
       "</div>"
      ],
      "text/plain": [
       "             itag  mime_type  res    fps       vcodec     acodec progressive  \\\n",
       "videoID                                                                        \n",
       "KMtgexdtcGY    22  video/mp4  720  30fps  avc1.64001F  mp4a.40.2        True   \n",
       "KMtgexdtcGY   136  video/mp4  720  30fps  avc1.4d401f        NaN       False   \n",
       "KMtgexdtcGY   135  video/mp4  480  30fps  avc1.4d4014        NaN       False   \n",
       "\n",
       "              type  abr  \n",
       "videoID                  \n",
       "KMtgexdtcGY  video  NaN  \n",
       "KMtgexdtcGY  video  NaN  \n",
       "KMtgexdtcGY  video  NaN  "
      ]
     },
     "execution_count": 5,
     "metadata": {},
     "output_type": "execute_result"
    }
   ],
   "source": [
    "stream_df_global, highest_stream = get_download_info(_yt_streams, _url)\n",
    "print('Highest resolution stream info:', highest_stream)\n",
    "stream_df_global.head(3)"
   ]
  },
  {
   "cell_type": "code",
   "execution_count": 6,
   "metadata": {},
   "outputs": [
    {
     "name": "stdout",
     "output_type": "stream",
     "text": [
      "선택된 stream 다운로드: <Stream: itag=\"22\" mime_type=\"video/mp4\" res=\"720p\" fps=\"30fps\" vcodec=\"avc1.64001F\" acodec=\"mp4a.40.2\" progressive=\"True\" type=\"video\">\n"
     ]
    }
   ],
   "source": [
    "print(\"선택된 stream 다운로드:\", highest_stream)\n",
    "# highest_stream.download(output_path='D:/MannequinChallenge_Videos', filename=stream_df_global.index[0])"
   ]
  },
  {
   "cell_type": "markdown",
   "metadata": {},
   "source": [
    "### Read whole `.txt` file and download"
   ]
  },
  {
   "cell_type": "code",
   "execution_count": 7,
   "metadata": {},
   "outputs": [],
   "source": [
    "root_path = 'D:/MannequinChallenge'\n",
    "meta_file_path = 'D:/MannequinChallenge/meta_files'\n",
    "target_video_path = os.path.join(root_path, 'original_videos')\n",
    "target_frames_path = os.path.join(root_path, 'original_sequences')"
   ]
  },
  {
   "cell_type": "code",
   "execution_count": null,
   "metadata": {
    "scrolled": true
   },
   "outputs": [],
   "source": [
    "failed_video_urls = dataset_downloader(meta_file_path, target_video_path, target_frames_path)"
   ]
  },
  {
   "cell_type": "code",
   "execution_count": 9,
   "metadata": {},
   "outputs": [
    {
     "name": "stdout",
     "output_type": "stream",
     "text": [
      "Done downloading videos! \n",
      "Failure video summary: \n",
      " - train: 1212, - val: 47, - test: 93\n"
     ]
    }
   ],
   "source": [
    "print(\"Done downloading videos! \\nFailure video summary: \\n - train: {}, - val: {}, - test: {}\".format(\n",
    "                len(failed_video_urls['train']), \n",
    "                len(failed_video_urls['validation']),\n",
    "                len(failed_video_urls['test'])))"
   ]
  },
  {
   "cell_type": "code",
   "execution_count": null,
   "metadata": {},
   "outputs": [],
   "source": []
  }
 ],
 "metadata": {
  "kernelspec": {
   "display_name": "Python 3",
   "language": "python",
   "name": "python3"
  },
  "language_info": {
   "codemirror_mode": {
    "name": "ipython",
    "version": 3
   },
   "file_extension": ".py",
   "mimetype": "text/x-python",
   "name": "python",
   "nbconvert_exporter": "python",
   "pygments_lexer": "ipython3",
   "version": "3.7.6"
  }
 },
 "nbformat": 4,
 "nbformat_minor": 4
}
